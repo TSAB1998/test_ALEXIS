{
 "cells": [
  {
   "attachments": {
    "erreur-cond.png": {
     "image/png": "[encoded data removed]"
    }
   },
   "cell_type": "markdown",
   "id": "57b8477a",
   "metadata": {
    "slideshow": {
     "slide_type": "slide"
    }
   },
   "source": [
    "# Conditionnement\n",
    "\n",
    "On a vu que les calculs numériques impliquent nécessairement la\n",
    "manipulation de données inexactes (pour cause de propagation d'arrondi\n",
    "ou d'utilisation d'algorithmes itératifs). Un problème important est de\n",
    "quantifier l'influence de ces inexactitudes sur les calculs, celle-ci\n",
    "est caractérisée par le conditionnement des problèmes (en anglais\n",
    "*condition number*, en général noté $\\kappa$).\n",
    "\n",
    "On caractérise généralement un algorithme de la façon suivante : soit\n",
    "$y=f(x)$ le résultat de l'évaluation exacte de $f$ en $x$. Soit\n",
    "$\\hat{y}$ le résultat de l'évaluation en précision finie. Soit\n",
    "$\\Delta x$ le nombre tel que l'évaluation exacte de $f$ en $x+\\Delta x$\n",
    "donnerait $\\hat{y}$. Voir la\n",
    "figure ci-dessous.\n",
    "\n",
    "![erreur-cond.png](attachment:erreur-cond.png)\n",
    "\n",
    "On appelle $y-\\hat{y}$ l'erreur directe (*forward error*) et $\\Delta x$\n",
    "l'erreur rétrograde (*backward error*). Un algorithme tel que $\\Delta x$\n",
    "reste faible est dit rétrogradement stable."
   ]
  },
  {
   "cell_type": "markdown",
   "id": "26a3982e",
   "metadata": {
    "slideshow": {
     "slide_type": "subslide"
    }
   },
   "source": [
    "Le conditionnement fait le lien entre l'erreur directe et l'erreur\n",
    "rétrograde. En effet, on a : $$\\begin{aligned}\n",
    "\\hat{y}-y = f(x+\\Delta x) - f(x) = f'(x) \\Delta x + O(\\Delta x ^2) \\\\\n",
    "\\frac{\\hat{y}-y}{y} = \\frac{xf'(x)}{f(x)}\\frac{\\Delta x}{x} +  O(\\Delta x ^2)\n",
    "\\end{aligned}$$ $\\kappa=\\left|\\frac{xf'(x)}{f(x)}\\right|$ est le\n",
    "conditionnement de l'algorithme, il donne la variation relative\n",
    "maximale, il borne la propagation des erreurs. On a la règle empirique :\n",
    "$$\\text{erreur directe} \\lesssim \\kappa \\times \\text{erreur retrograde}$$\n",
    "\n",
    "On peut donc parler du conditionnement de n'importe quel problème\n",
    "mathématique (calcul des zéros d'une fonction, recherche de minimal,\n",
    "...). Par la suite on se focalise sur deux problèmes fondamentaux du\n",
    "calcul numérique : la résolution de systèmes linéaires (abusivement\n",
    "nommés inversion de matrice) et le calcul de valeurs et vecteurs\n",
    "propres."
   ]
  },
  {
   "cell_type": "markdown",
   "id": "4a3b6716",
   "metadata": {
    "slideshow": {
     "slide_type": "slide"
    }
   },
   "source": [
    "## Conditionnement d'un système linéaire\n",
    "\n",
    "**Exemple 3.1**. Cet exemple a été proposé par R.S. Wilson (apparaît dans un article de Morris de 1946 (https://doi.org/10.1080/14786444608561331), dans lequel il est décrit comme ayant été \"conçu par M. R. S. Wilson\"). Soit :\n",
    "\n",
    "$${\\mathbf{A}} = \n",
    "    \\begin{pmatrix} \n",
    "    10 & 7 & 8  & 7\\\\\n",
    "    & 5 & 6  & 5\\\\\n",
    "    &   & 10 & 9\\\\\n",
    "    \\text{sym}  &   &    & 10\n",
    "    \\end{pmatrix}\\qquad {\\mathbf{b}} = \\begin{pmatrix} 32\\\\23\\\\33\\\\31\\end{pmatrix} \\qquad  {\\mathbf{\\delta b}}= \\begin{pmatrix} 0.1\\\\-0.1\\\\0.1\\\\-0.1\\end{pmatrix} \\qquad\n",
    "    {\\mathbf{\\Delta A}} = \n",
    "    \\begin{pmatrix} \n",
    "    0 & 0 & 0.1  & 0.2\\\\\n",
    "    0.08 & 0.04 & 0  & 0\\\\\n",
    "    0  & -0.02  & -0.11 & 0\\\\\n",
    "    -0,01 & -0,01 &  0  & -0,02\n",
    "    \\end{pmatrix}$$ \n",
    "    \n",
    "Résoudre numériquement\n",
    "\n",
    "${\\mathbf{A}}{\\mathbf{u}}={\\mathbf{b}}$,\n",
    "\n",
    "${\\mathbf{A}}({\\mathbf{u}}+{\\mathbf{\\delta u}})={\\mathbf{b}}+{\\mathbf{\\delta b}}$\n",
    "\n",
    "et $({\\mathbf{A}}+{\\mathbf{\\Delta A}})({\\mathbf{u}}+{\\mathbf{\\Delta u}})={\\mathbf{b}}$.\n",
    "\n",
    "Comparer les normes 2 des variations solutions relativement aux normes 2 des variations du second membre et de la matrice. "
   ]
  },
  {
   "cell_type": "code",
   "execution_count": 1,
   "id": "ed6e6aa9",
   "metadata": {
    "slideshow": {
     "slide_type": "subslide"
    }
   },
   "outputs": [
    {
     "name": "stdout",
     "output_type": "stream",
     "text": [
      "[1. 1. 1. 1.]\n",
      "[  8.2 -13.6   3.5  -2.1]\n",
      "[-82. 136. -35.  21.]\n",
      "\n",
      "[[ 25. -41.  10.  -6.]\n",
      " [-41.  68. -17.  10.]\n",
      " [ 10. -17.   5.  -3.]\n",
      " [ -6.  10.  -3.   2.]]\n",
      "\n",
      "Perturbation de\t\t Perturbation de\n",
      "deltab \t 3.3e-03 \t deltau  8.2\n",
      "DELTAA \t 7.6e-03 \t DELTAu  82.0\n"
     ]
    }
   ],
   "source": [
    "import numpy as np\n",
    "from numpy import linalg as la\n",
    "\n",
    "A = np.matrix([\n",
    "     [10., 7., 8., 7.],\n",
    "     [7., 5., 6., 5.],\n",
    "     [8., 6., 10., 9.],\n",
    "     [7., 5., 9., 10.]])\n",
    "b= np.transpose([32., 23., 33., 31.])\n",
    "\n",
    "DELTAA = np.matrix([[0., 0., 0.1, 0.2],\n",
    "     [0.08, 0.04, 0., 0.],\n",
    "     [0., -0.02, -0.11, 0.],\n",
    "     [-0.01, -0.01, 0., -0.02]])\n",
    "\n",
    "deltab= np.transpose([0.1, -0.1, 0.1, -0.1])\n",
    "\n",
    "u=la.solve(A,b)\n",
    "print(u)\n",
    "\n",
    "deltau = la.solve(A,b+deltab)-u\n",
    "print(deltau)\n",
    "\n",
    "DELTAu = la.solve(A+DELTAA,b)-u\n",
    "print(DELTAu)\n",
    "print()\n",
    "print(la.inv(A))\n",
    "\n",
    "\n",
    "print()\n",
    "print('Perturbation de\\t\\t', 'Perturbation de')\n",
    "print(\"deltab \\t\",\"{:.1e}\".format(la.norm(deltab,2)/la.norm(b,2)),\"\\t deltau \",round(la.norm(deltau,2)/la.norm(u,2),1))\n",
    "print(\"DELTAA \\t\",\"{:.1e}\".format(la.norm(DELTAA,2)/la.norm(A,2)),\"\\t DELTAu \",round(la.norm(DELTAu,2)/la.norm(u,2),1))"
   ]
  },
  {
   "cell_type": "markdown",
   "id": "db8b268e",
   "metadata": {
    "slideshow": {
     "slide_type": "subslide"
    }
   },
   "source": [
    "On résout\n",
    "${\\mathbf{A}}{\\mathbf{u}}={\\mathbf{b}}$,\n",
    "${\\mathbf{A}}({\\mathbf{u}}+{\\mathbf{\\delta u}})={\\mathbf{b}}+{\\mathbf{\\delta b}}$\n",
    "et\n",
    "$({\\mathbf{A}}+{\\mathbf{\\Delta A}})({\\mathbf{u}}+{\\mathbf{\\Delta u}})={\\mathbf{b}}$.\n",
    "On a $${\\mathbf{u}}=\\begin{pmatrix}\n",
    "    1\\\\1\\\\1\\\\1\n",
    "    \\end{pmatrix}\n",
    "    \\qquad {\\mathbf{\\delta u}} = \\begin{pmatrix}\n",
    "    8.2\\\\-13.6\\\\3.5\\\\-2.1\n",
    "    \\end{pmatrix},\\qquad {\\mathbf{\\Delta u}} = \\begin{pmatrix}\n",
    "    -82\\\\136\\\\-35\\\\21\n",
    "    \\end{pmatrix}, \\qquad \\text{au passage }{\\mathbf{A}}^{-1}=\\begin{pmatrix} \n",
    "    25 & -41 & 10  & -6\\\\\n",
    "    & 68 & -17  & 10\\\\\n",
    "    &   & 5 & -3\\\\\n",
    "    \\text{sym}  &   &    & 2\n",
    "    \\end{pmatrix}$$ On voit qu'une perturbation de $3.3\\;10^{-3}$ sur la\n",
    "norme 2 du second membre conduit à une variation d'environ $8$ sur la norme 2\n",
    "de la solution et qu'une perturbation de $7.6\\;10^{-3}$ sur la norme 2 de\n",
    "la matrice conduit à une variation d'environ $80$ sur la norme 2 de la\n",
    "solution (ce qui colle assez bien avec les propriétés du conditionnement\n",
    "décrites dans la prochaine section,\n",
    "${\\kappa_{2}(\\mathbf{A})}\\simeq3000$ et\n",
    "${\\kappa_{1}(\\mathbf{A})}={\\kappa_{\\infty}(\\mathbf{A})}\\simeq 4500$)."
   ]
  },
  {
   "cell_type": "markdown",
   "id": "3a1348d3",
   "metadata": {
    "slideshow": {
     "slide_type": "slide"
    }
   },
   "source": [
    "\n",
    "### Caractérisation classique\n",
    "\n",
    "**Définition 3.1**. Pour une norme subordonnée, on appelle\n",
    "conditionnement de la matrice ${\\mathbf{A}}$ le nombre\n",
    "${\\kappa(\\mathbf{A})}=\\|{\\mathbf{A}}\\|\\|{\\mathbf{A}}^{-1}\\|$,\n",
    "remarquons dès à présent que le conditionnement est une notion\n",
    "dépendante de la norme utilisée (si besoin est, on peut le noter\n",
    "${\\kappa_{p}(\\mathbf{A})}$). Par convention une matrice\n",
    "singulière a un conditionnement infini.\n",
    "\n",
    "Soit une matrice ${\\mathbf{A}}$ *inversible*, on compare la\n",
    "solution d'un système linéaire dont on a perturbé le second membre avec\n",
    "le système original. $$\\begin{aligned}\n",
    "{\\mathbf{A}}{\\mathbf{u}}&={\\mathbf{b}}\\\\\n",
    "{\\mathbf{A}}({\\mathbf{u}}+{\\mathbf{\\delta u}})&={\\mathbf{b}}+{\\mathbf{\\delta b}}\n",
    "\\end{aligned}$$\n",
    "\n",
    "\n",
    "\n",
    "**Proposition 3.1**. *On suppose ${\\mathbf{b}}\\neq0$, pour\n",
    "n'importe quelle norme subordonnée, on a :\n",
    "$$\\frac{\\|{\\mathbf{\\delta u}}\\|}{\\|{\\mathbf{u}}\\|}\\leqslant{\\kappa(\\mathbf{A})}\\frac{\\|{\\mathbf{\\delta b}}\\|}{\\|{\\mathbf{b}}\\|}$$\n",
    "c'est une borne exacte (il existe une perturbation pour laquelle le\n",
    "résultat est une égalité).*\n",
    "\n",
    "\n",
    "*Proof.* On a\n",
    "${\\mathbf{\\delta u}}={\\mathbf{A}}^{-1}{\\mathbf{\\delta b}}$\n",
    "et donc\n",
    "$\\|{\\mathbf{\\delta u}}\\|\\leqslant \\|{\\mathbf{A}}^{-1}\\|\\|{\\mathbf{\\delta b}}\\|$.\n",
    "On a de plus\n",
    "$\\|{\\mathbf{b}}\\|\\leqslant \\|{\\mathbf{A}}\\|\\|{\\mathbf{u}}\\|$. ◻\n",
    "\n",
    "Vérifier cette propriété dans le cas de l'exemple 3.1 pour les 3 normes 1, 2 et $\\infty$"
   ]
  },
  {
   "cell_type": "code",
   "execution_count": 2,
   "id": "f5075fa4",
   "metadata": {
    "slideshow": {
     "slide_type": "subslide"
    }
   },
   "outputs": [
    {
     "data": {
      "text/latex": [
       "$\\frac{||\\delta \\mathbf{u}||}{||\\mathbf{u}||} \\qquad\\qquad\\qquad \\kappa(\\mathbf{A})\\frac{||\\mathbf{\\delta b}||}{||\\mathbf{b}||}$"
      ],
      "text/plain": [
       "<IPython.core.display.Latex object>"
      ]
     },
     "metadata": {},
     "output_type": "display_data"
    },
    {
     "name": "stdout",
     "output_type": "stream",
     "text": [
      "Norme 1\n",
      "6.85000 \t 15.08571\n",
      "Norme 2\n",
      "8.19848 \t 9.94283\n",
      "Norme Inf\n",
      "13.60000 \t 13.60000\n"
     ]
    }
   ],
   "source": [
    "import numpy as np\n",
    "from numpy import linalg as la\n",
    "from IPython.display import display, Latex\n",
    "\n",
    "A = np.matrix([\n",
    "     [10., 7., 8., 7.],\n",
    "     [7., 5., 6., 5.],\n",
    "     [8., 6., 10., 9.],\n",
    "     [7., 5., 9., 10.]])\n",
    "b= np.transpose([32., 23., 33., 31.])\n",
    "\n",
    "deltab= np.transpose([0.1, -0.1, 0.1, -0.1])\n",
    "\n",
    "u=la.solve(A,b)\n",
    "deltau = la.solve(A,b+deltab)-u\n",
    "\n",
    "def condit(M,i):\n",
    "    return la.norm(M,i)*la.norm(la.inv(M),i)\n",
    "\n",
    "display(Latex('$\\\\frac{||\\delta \\mathbf{u}||}{||\\mathbf{u}||} \\qquad\\qquad\\qquad \\kappa(\\mathbf{A})\\\\frac{||\\mathbf{\\delta b}||}{||\\mathbf{b}||}$'))\n",
    "print('Norme 1')\n",
    "print(\"{:.5f}\".format(la.norm(deltau,1)/la.norm(u,1)),\"\\t\",\"{:.5f}\".format(condit(A,1)*la.norm(deltab,1)/la.norm(b,1)) )\n",
    "print('Norme 2')\n",
    "print(\"{:.5f}\".format(la.norm(deltau,2)/la.norm(u,2)),\"\\t\",\"{:.5f}\".format(condit(A,2)*la.norm(deltab,2)/la.norm(b,2)) )\n",
    "print('Norme Inf')\n",
    "print(\"{:.5f}\".format(la.norm(deltau,np.inf)/la.norm(u,np.inf)),\"\\t\",\"{:.5f}\".format(condit(A,np.inf)*la.norm(deltab,np.inf)/la.norm(b,np.inf)) )\n"
   ]
  },
  {
   "cell_type": "markdown",
   "id": "cc1082f9",
   "metadata": {
    "slideshow": {
     "slide_type": "subslide"
    }
   },
   "source": [
    "On étudie maintenant l'effet d'une perturbation de la matrice sur la\n",
    "solution : $$\\begin{aligned}\n",
    "{\\mathbf{A}}{\\mathbf{u}}&={\\mathbf{b}}\\\\\n",
    "({\\mathbf{A}}+{\\mathbf{\\Delta A}})({\\mathbf{u}}+{\\mathbf{\\Delta u}})&={\\mathbf{b}}\n",
    "\\end{aligned}$$\n",
    "\n",
    "**Proposition 3.2**. *En supposant ${\\mathbf{b}}\\neq0$, on a\n",
    ":\n",
    "$$\\frac{\\|{\\mathbf{\\Delta u}}\\|}{\\|{\\mathbf{u}}+{\\mathbf{\\Delta u}}\\|}\\leqslant{\\kappa(\\mathbf{A})}\\frac{\\|{\\mathbf{\\Delta A}}\\|}{\\|{\\mathbf{A}}\\|}$$\n",
    "là encore l'égalité peut être atteinte.*\n",
    "\n",
    "\n",
    "*Proof.* Le système donne\n",
    "${\\mathbf{A}}{\\mathbf{\\Delta u}}+{\\mathbf{\\Delta A}}({\\mathbf{u}}+{\\mathbf{\\Delta u}})=0$\n",
    "et donc\n",
    "${\\mathbf{\\Delta u}}=-{\\mathbf{A}}^{-1}{\\mathbf{\\Delta A}}({\\mathbf{u}}+{\\mathbf{\\Delta u}})$\n",
    "qui conduit à\n",
    "$\\|{\\mathbf{\\Delta u}}\\|\\leqslant \\|{\\mathbf{A}}^{-1}\\|\\|{\\mathbf{\\Delta A}}\\|\\|{\\mathbf{u}}+{\\mathbf{\\Delta u}}\\|={\\kappa(\\mathbf{A})}\\frac{\\|{\\mathbf{\\Delta A}}\\|}{\\|{\\mathbf{A}}\\|}\\|{\\mathbf{u}}+{\\mathbf{\\Delta u}}\\|$ ◻\n",
    "\n",
    "Vérifier également cette propriété dans le cas de l'exemple 3.1 pour les 3 normes 1, 2 et $\\infty$"
   ]
  },
  {
   "cell_type": "code",
   "execution_count": 3,
   "id": "a6cb7d1d",
   "metadata": {
    "slideshow": {
     "slide_type": "subslide"
    }
   },
   "outputs": [
    {
     "data": {
      "text/latex": [
       "$\\frac{||\\Delta \\mathbf{u}||}{||\\mathbf{u}+\\Delta \\mathbf{u}||} \\qquad\\qquad\\;\\; \\kappa(\\mathbf{A})\\frac{||\\mathbf{\\Delta A}||}{||\\mathbf{A}||}$"
      ],
      "text/plain": [
       "<IPython.core.display.Latex object>"
      ]
     },
     "metadata": {},
     "output_type": "display_data"
    },
    {
     "name": "stdout",
     "output_type": "stream",
     "text": [
      "Norme 1\n",
      "1.00000 \t 29.92000\n",
      "Norme 2\n",
      "0.99844 \t 22.74147\n",
      "Norme Inf\n",
      "0.99270 \t 40.80000\n"
     ]
    }
   ],
   "source": [
    "import numpy as np\n",
    "from numpy import linalg as la\n",
    "from IPython.display import display, Latex\n",
    "\n",
    "A = np.matrix([\n",
    "     [10., 7., 8., 7.],\n",
    "     [7., 5., 6., 5.],\n",
    "     [8., 6., 10., 9.],\n",
    "     [7., 5., 9., 10.]])\n",
    "b= np.transpose([32., 23., 33., 31.])\n",
    "\n",
    "DELTAA = np.matrix([[0., 0., 0.1, 0.2],\n",
    "     [0.08, 0.04, 0., 0.],\n",
    "     [0., -0.02, -0.11, 0.],\n",
    "     [-0.01, -0.01, 0., -0.02]])\n",
    "\n",
    "u=la.solve(A,b)\n",
    "deltau = la.solve(A+DELTAA,b)-u\n",
    "\n",
    "def condit(M,i):\n",
    "    return la.norm(M,i)*la.norm(la.inv(M),i)\n",
    "\n",
    "display(Latex('$\\\\frac{||\\Delta \\mathbf{u}||}{||\\mathbf{u}+\\Delta \\mathbf{u}||} \\qquad\\qquad\\;\\; \\kappa(\\mathbf{A})\\\\frac{||\\mathbf{\\Delta A}||}{||\\mathbf{A}||}$'))\n",
    "print('Norme 1')\n",
    "print(\"{:.5f}\".format(la.norm(deltau,1)/la.norm(u+deltau,1)),\"\\t\",\"{:.5f}\".format(condit(A,1)*la.norm(DELTAA,1)/la.norm(A,1)) )\n",
    "print('Norme 2')\n",
    "print(\"{:.5f}\".format(la.norm(deltau,2)/la.norm(u+deltau,2)),\"\\t\",\"{:.5f}\".format(condit(A,2)*la.norm(DELTAA,2)/la.norm(A,2)) )\n",
    "print('Norme Inf')\n",
    "print(\"{:.5f}\".format(la.norm(deltau,np.inf)/la.norm(u+deltau,np.inf)),\"\\t\",\"{:.5f}\".format(condit(A,np.inf)*la.norm(DELTAA,np.inf)/la.norm(A,np.inf)) )\n"
   ]
  },
  {
   "cell_type": "markdown",
   "id": "59efe1aa",
   "metadata": {
    "slideshow": {
     "slide_type": "subslide"
    }
   },
   "source": [
    "**Proposition 3.3**. *On peut arranger le premier membre et obtenir :\n",
    "$$\\frac{\\|{\\mathbf{\\Delta u}}\\|}{\\|{\\mathbf{u}}\\|}\\leqslant{\\kappa(\\mathbf{A})}\\frac{\\|\\Delta {\\mathbf{A}}\\|}{\\|{\\mathbf{A}}\\|}(1+O(\\|{\\mathbf{\\Delta A}}\\|)$$*\n",
    "\n",
    "\n",
    "*Proof.* On suppose que la perturbation reste petite telle que\n",
    "$\\|{\\mathbf{A}}^{-1}\\|\\|{\\mathbf{\\Delta A}}\\|<1$\n",
    "de sorte que\n",
    "$({\\mathbf{I}}+{\\mathbf{A}}^{-1} {\\mathbf{\\Delta A}})$\n",
    "est inversible et\n",
    "$\\|({\\mathbf{I}}+{\\mathbf{A}}^{-1}{\\mathbf{\\Delta A}})^{-1}\\|\\leqslant \\frac{1}{1-\\|{\\mathbf{A}}^{-1}{\\mathbf{\\Delta A}}\\|}\\leqslant \\frac{1}{1-\\|{\\mathbf{A}}^{-1}\\|\\|{\\mathbf{\\Delta A}}\\|}$.\n",
    "On a\n",
    "${\\mathbf{\\Delta u}}=-{\\mathbf{A}}^{-1}{\\mathbf{\\Delta A}}({\\mathbf{u}}+{\\mathbf{\\Delta u}})$\n",
    "et par ailleurs\n",
    "$({\\mathbf{A}}+{\\mathbf{\\Delta A}})({\\mathbf{u}}+{\\mathbf{\\Delta u}})={\\mathbf{A}}{\\mathbf{u}}$\n",
    "donc\n",
    "${\\mathbf{u}}+{\\mathbf{\\Delta u}} = ({\\mathbf{I}}+ {\\mathbf{A}}^{-1}{\\mathbf{\\Delta A}})^{-1} {\\mathbf{u}}$.\n",
    "Donc $$\\begin{aligned}\n",
    "    {\\mathbf{\\Delta u}} &= -{\\mathbf{A}}^{-1}{\\mathbf{\\Delta A}}({\\mathbf{I}}+ {\\mathbf{A}}^{-1}{\\mathbf{\\Delta A}})^{-1} {\\mathbf{u}}\n",
    "    \\\\\\|{\\mathbf{\\Delta u}}\\|\n",
    "    &\\leqslant \\frac{\\|{\\mathbf{A}}^{-1}\\|\\|{\\mathbf{\\Delta A}}\\|}{1-\\|{\\mathbf{A}}^{-1}\\|\\|{\\mathbf{\\Delta A}}\\|}\\|{\\mathbf{u}}\\|\\\\\n",
    "    \\frac{\\|{\\mathbf{\\Delta u}}\\|}{\\|{\\mathbf{u}}\\|}&\\leqslant {\\kappa(\\mathbf{A})} \\frac{\\|{\\mathbf{\\Delta A}}\\|}{\\|{\\mathbf{A}}\\|}\\left(\\frac{1}{1-\\|{\\mathbf{A}}^{-1}\\|\\|{\\mathbf{\\Delta A}}\\|}\\right)\n",
    "    \\end{aligned}$$ ◻"
   ]
  },
  {
   "cell_type": "markdown",
   "id": "286da7a1",
   "metadata": {
    "slideshow": {
     "slide_type": "subslide"
    }
   },
   "source": [
    "**Proposition 3.4**. *On a les résultats importants suivants\n",
    "$\\forall {\\mathbf{A}}$: $$\\begin{aligned}\n",
    "    {\\kappa(\\mathbf{A})}&\\geqslant 1\\\\\n",
    "    {\\kappa(\\mathbf{A})}&={\\kappa(\\mathbf{A^{-1}})}\\\\\n",
    "    {\\kappa(\\mathbf{\\alpha A})}&={\\kappa(\\mathbf{A})}, \\ \\text{pour tout scalaire } \\alpha\\\\\n",
    "    {\\kappa_{2}(\\mathbf{A})} &=\\frac{\\sigma_1}{\\sigma_n},\\quad (\\sigma_n\\leqslant\\cdots\\leqslant\\sigma_1) \\text{ valeurs singulières de }{\\mathbf{A}}\\\\\n",
    "    \\text{Si }{\\mathbf{A}}\\text{ est normale, } {\\kappa_{2}(\\mathbf{A})}&=\\frac{\\max|\\lambda_i|}{\\min|\\lambda_i|},\\quad (\\lambda_i) \\text{ valeurs propres de }{\\mathbf{A}}\\\\\n",
    "    \\text{Si }{\\mathbf{A}}\\text{ est unitaire ou orthogonale, } {\\kappa_{2}(\\mathbf{A})}&=1\n",
    "    \\end{aligned}$$*\n",
    "\n",
    "\n",
    "\n",
    "**Proposition 3.5**. *${\\kappa_{2}(\\mathbf{A})}$ est\n",
    "invariant par transformation unitaire :\n",
    "$${\\mathbf{U}}^H{\\mathbf{U}}={\\mathbf{U}}{\\mathbf{U}}^H={\\mathbf{I}}\\Rightarrow {\\kappa_{2}(\\mathbf{A})}={\\kappa_{2}(\\mathbf{UA})}={\\kappa_{2}(\\mathbf{AU})}={\\kappa_{2}(\\mathbf{U^HAU})}$$*\n",
    "\n",
    "Ce dernier résultat indique l'importance des transformations unitaires\n",
    "en analyse numérique puisqu'elles ne détériorent pas le conditionnement\n",
    "(voir donc les algorithmes faisant intervenir les rotations de Givens ou\n",
    "les réflexions de Householder).\n",
    "\n",
    "En mécanique des structures il est possible de relier le\n",
    "conditionnement, entre autres, à l'élancement (*aspect ratio*) des\n",
    "structures, à la présence d'hétérogénéités, à l'incompressibilité, aux\n",
    "interfaces irrégulières...\n",
    "\n",
    "Vérifier sur quelques exemples les résultats importants énoncés précédemment."
   ]
  },
  {
   "cell_type": "code",
   "execution_count": 4,
   "id": "67e52831",
   "metadata": {},
   "outputs": [
    {
     "data": {
      "text/latex": [
       "$\\kappa(\\mathbf{A})=\\kappa(\\mathbf{A^{-1}})$"
      ],
      "text/plain": [
       "<IPython.core.display.Latex object>"
      ]
     },
     "metadata": {},
     "output_type": "display_data"
    },
    {
     "name": "stdout",
     "output_type": "stream",
     "text": [
      "norme 1\t\t 1.7000134066110477 1.7000134066110482\n",
      "norme inf\t 1.700013406611048 1.7000134066110484\n"
     ]
    },
    {
     "data": {
      "text/latex": [
       "$\\kappa_{2}(\\mathbf{A}) = \\frac{\\sigma_1}{\\sigma_n}$"
      ],
      "text/plain": [
       "<IPython.core.display.Latex object>"
      ]
     },
     "metadata": {},
     "output_type": "display_data"
    },
    {
     "name": "stdout",
     "output_type": "stream",
     "text": [
      "norme 2 \t\t 1.4468632828924377\n",
      "rapport valeurs sing. \t 1.4468632828924377\n"
     ]
    },
    {
     "data": {
      "text/latex": [
       "$\\kappa_{2}(\\mathbf{A})=\\frac{\\max|\\lambda_i|}{\\min|\\lambda_i|}$"
      ],
      "text/plain": [
       "<IPython.core.display.Latex object>"
      ]
     },
     "metadata": {},
     "output_type": "display_data"
    },
    {
     "name": "stdout",
     "output_type": "stream",
     "text": [
      "norme 2 \t\t 1.4468632828924377\n",
      "rapport valeurs propres\t 1.4468632828924397\n"
     ]
    },
    {
     "data": {
      "text/latex": [
       "$\\kappa_{2}(\\mathbf{B})=1$"
      ],
      "text/plain": [
       "<IPython.core.display.Latex object>"
      ]
     },
     "metadata": {},
     "output_type": "display_data"
    },
    {
     "name": "stdout",
     "output_type": "stream",
     "text": [
      "norme 2 \t 1.0000000000000002\n"
     ]
    }
   ],
   "source": [
    "import numpy as np\n",
    "from numpy import linalg as la\n",
    "from IPython.display import display, Latex\n",
    "\n",
    "n=10\n",
    "# A est une matrice symétrique, définie et positive\n",
    "A = np.random.random((n, n))\n",
    "A=A*A.transpose()+n*np.identity(n)\n",
    "# B est une matrice orthogonale\n",
    "H = np.random.random((n, n))+n*np.identity(n)\n",
    "u, s, vh = np.linalg.svd(H, full_matrices=False)\n",
    "B = u.dot(vh)\n",
    "\n",
    "def condit(M,i):\n",
    "    return la.norm(M,i)*la.norm(la.inv(M),i)\n",
    "\n",
    "display(Latex(\"$\\kappa(\\mathbf{A})=\\kappa(\\mathbf{A^{-1}})$\"))\n",
    "print(\"norme 1\\t\\t\", condit(A,1), condit(la.inv(A),1))\n",
    "print(\"norme inf\\t\", condit(A,np.inf), condit(la.inv(A),np.inf))\n",
    "\n",
    "\n",
    "display(Latex(\"$\\kappa_{2}(\\mathbf{A}) = \\\\frac{\\sigma_1}{\\sigma_n}$\"))\n",
    "ua, sa, vha = np.linalg.svd(A, full_matrices=False)\n",
    "print(\"norme 2 \\t\\t\", condit(A,2))\n",
    "print(\"rapport valeurs sing. \\t\", sa[0]/sa[-1])\n",
    "\n",
    "display(Latex(\"$\\kappa_{2}(\\mathbf{A})=\\\\frac{\\max|\\lambda_i|}{\\min|\\lambda_i|}$\"))\n",
    "print(\"norme 2 \\t\\t\", condit(A,2))\n",
    "valpro = la.eigvals(A)\n",
    "print(\"rapport valeurs propres\\t\", np.max(abs(valpro))/np.min(abs(valpro)))\n",
    "\n",
    "\n",
    "display(Latex(\"$\\kappa_{2}(\\mathbf{B})=1$\"))\n",
    "print(\"norme 2 \\t\", condit(B,2))"
   ]
  },
  {
   "cell_type": "markdown",
   "id": "562b6e56",
   "metadata": {
    "slideshow": {
     "slide_type": "slide"
    }
   },
   "source": [
    "### Scaling\n",
    "\n",
    "La précision de nombreuses opérations dépend du conditionnement de la\n",
    "matrice d'entrée. Par exemple, la factorisation de Cholesky d'une\n",
    "matrice symétrique définie positive\n",
    "${\\mathbf{A}}={\\mathbf{L}}{\\mathbf{L}}^T$\n",
    "est rétrogradement stable (ce qui est parfait pour résoudre un système)\n",
    "mais l'erreur directe est de la forme\n",
    "$\\|{\\mathbf{L}}-\\hat{{\\mathbf{L}}}\\|/\\|{\\mathbf{L}}\\|\\simeq u \\kappa({\\mathbf{A}})$,\n",
    "où $u$ est l'erreur d'arrondi introduite au chapitre précédent. On a\n",
    "donc intérêt à essayer d'améliorer le conditionnement des matrices avant\n",
    "d'appliquer dessus de nombreuses opérations.\n",
    "\n",
    "Pour cela on utilise des matrices d'équilibrage (*scaling*). On écrit\n",
    "${\\mathbf{A}}={\\mathbf{D_g}}{\\mathbf{\\tilde{A}}}{\\mathbf{D_d}}$\n",
    "avec ${\\mathbf{D_g}}$ et ${\\mathbf{D_d}}$ deux\n",
    "matrices diagonales (donc très faciles à manipuler) rendant\n",
    "${\\mathbf{\\tilde{A}}}$ de conditionnement faible. Il n'y a\n",
    "pas de recette absolue, trouver les matrices d'équilibrage qui\n",
    "minimisent le conditionnement est un problème très complexe (qui dépend\n",
    "de la matrice et de la norme utilisée).\n",
    "\n",
    "Une idée classique consiste à essayer de rendre chaque ligne ou chaque\n",
    "colonne du même ordre de grandeur (en norme infinie). Pour les matrices\n",
    "symétriques définies positives avec de gros coefficient diagonaux on\n",
    "peut prendre la racine de la diagonale."
   ]
  },
  {
   "cell_type": "markdown",
   "id": "4d4d567c",
   "metadata": {},
   "source": [
    "**Exemple 3.2** Soit ${\\mathbf{A}}$ une matrice mal conditionnée.  On propose de réaliser le scaling de la façon suivante.\n",
    "\n",
    "a) Équilibrage des lignes $i$.\n",
    "On divise chaque ligne $i$ par $\\max_{j}|a_{ij}|$\n",
    "Montrer que cela revient à résoudre le système linéaire $\\mathbf{R}\\mathbf{A}\\mathbf{x}= \\mathbf{R}\\mathbf{b}$ avec $\\mathbf{R}$ un matrice diagonale vérifiant $r_{ii}=\\frac{1}{\\max_{1\\leq k \\leq n} |a_{ik}|}$\n",
    "\n",
    "b) Équilibrage des colonnes $j$.\n",
    "On divise chaque ligne j par $\\max_{i}|a_{ij}|$\n",
    "Montrer que cela revient à résoudre le système linéaire $(\\mathbf{A}\\mathbf{C})\\mathbf{C}^{-1}x= \\mathbf{b}$ avec $\\mathbf{C}$ un matrice diagonale vérifiant $c_{ii}=\\frac{1}{\\max_{1\\leq k \\leq n} |a_{ki}|}$\n",
    "\n",
    "Le système lorsqu'on effectue les 2 opérations devient alors $(\\mathbf{R}\\mathbf{A}\\mathbf{C})(\\mathbf{C}^{-1}x)= \\mathbf{R}\\mathbf{b}$ qui se résoud en 2 temps. On détermine d'abord $\\mathbf{C}^{-1}x$ dont on déduit ensuite $x$ en multipliant le résultat par $\\mathbf{C}$.\n",
    "\n",
    "Appliquer cette méthode avec : \n",
    "${\\mathbf{A}} =\\begin{pmatrix} \n",
    "    10 & 100\\\\\n",
    "    0,1 & 0,2\n",
    "    \\end{pmatrix}$\n",
    "et \n",
    "${\\mathbf{b}} =\\begin{pmatrix} \n",
    "    10 \\\\\n",
    "    1 \n",
    "    \\end{pmatrix}$. On calculera le conditionnement du sytème d'origine et du système modifié."
   ]
  },
  {
   "cell_type": "code",
   "execution_count": null,
   "id": "eb7d813f",
   "metadata": {},
   "outputs": [],
   "source": []
  },
  {
   "cell_type": "code",
   "execution_count": 12,
   "id": "bd863f14",
   "metadata": {
    "scrolled": true
   },
   "outputs": [
    {
     "name": "stdout",
     "output_type": "stream",
     "text": [
      "R [[0.01 0.  ]\n",
      " [0.   5.  ]]\n",
      "C [[0.1  0.  ]\n",
      " [0.   0.01]]\n",
      "[12.25  -1.125]\n",
      "[12.25  -1.125]\n",
      "1262.5054579242162\n",
      "[12.25  -1.125]\n",
      "6.854101966249679\n",
      "7.990955480475443e+199\n",
      "513.7014908764253\n",
      "79578224259770.55\n",
      "True\n"
     ]
    }
   ],
   "source": [
    "import numpy as np\n",
    "from numpy import linalg as la\n",
    "\n",
    "A = np.array([\n",
    "     [10., 100.],\n",
    "     [0.1, 0.2]])\n",
    "b= np.transpose([10., 1.])\n",
    "\n",
    "def eqcol(M):\n",
    "    return np.diag(1/np.amax(np.abs(M), axis=1))\n",
    "\n",
    "def eqlig(M):\n",
    "    return np.diag(1/np.amax(np.abs(M), axis=0))\n",
    "\n",
    "R=eqcol(A)\n",
    "C=eqlig(A)\n",
    "\n",
    "print(\"R\", R)\n",
    "print(\"C\", C)\n",
    "\n",
    "# Resolution syteme d'origine\n",
    "x = la.solve(A,b)\n",
    "print(x)\n",
    "print(la.inv(A) @ b)\n",
    "print(la.cond(A))\n",
    "\n",
    "# Resolution syteme modifie\n",
    "y = la.solve(R @ A @ C,R @b)\n",
    "x = C @ y\n",
    "print(x)\n",
    "print(la.cond(R @ A @ C))\n",
    "\n",
    "n=500\n",
    "# A est une matrice symétrique, définie et positive\n",
    "A = np.random.random((n, n))\n",
    "A=A*A.transpose()+n*np.identity(n)\n",
    "A[5,:]= 1.E200\n",
    "b= 1E30*np.random.random((n,1))\n",
    "\n",
    "R=eqcol(A)\n",
    "C=eqlig(A)\n",
    "\n",
    "# Resolution syteme d'origine\n",
    "xo = la.solve(A,b)\n",
    "xo = la.inv(A) @ b\n",
    "print(la.cond(A))\n",
    "\n",
    "# Resolution syteme modifie\n",
    "y = la.solve(R @ A @ C,R @ b)\n",
    "xm = C @ y\n",
    "print(la.cond(R @ A @ C))\n",
    "\n",
    "print(la.norm(xo-xm))\n",
    "print(np.allclose(xo,xm))"
   ]
  },
  {
   "cell_type": "markdown",
   "id": "4a146463",
   "metadata": {
    "slideshow": {
     "slide_type": "slide"
    }
   },
   "source": [
    "### Remarque sur le déterminant\n",
    "\n",
    "Le déterminant n'est pas utilisable pour caractériser la\n",
    "non-inversibilité d'une matrice.\n",
    "\n",
    "**Exemple 3.3**. $$\\begin{pmatrix}\n",
    "    1 & -1 & \\cdots & -1 \\\\\n",
    "    0 & 1 & \\cdots & -1 \\\\\n",
    "    \\vdots & \\vdots & \\ddots & \\vdots \\\\\n",
    "    0 & 0 & \\cdots & 1 \n",
    "    \\end{pmatrix}\\in {\\mathbb{R}}^{n\\times n}$$ a un\n",
    "déterminant de $1$ et un conditionnement de $n2^{n-1}$.\n",
    "\n",
    "**Exemple 3.4**.\n",
    "${\\mathbf{D}}_n={{\\mathbf{\\operatorname{diag}}}}(10^{-1},\\cdots,10^{-1})\\in {\\mathbb{R}}^{n\\times n}$\n",
    "a un ${\\kappa_{p}(\\mathbf{D_n})}=1$ et un déterminant\n",
    "$\\det({\\mathbf{D}}_n)=10^{-n}$.\n",
    "\n",
    "Evaluer numériquement les déterminants et conditionnements des deux matrices des exemples 3.3 et 3.4."
   ]
  },
  {
   "cell_type": "code",
   "execution_count": 43,
   "id": "494bd589",
   "metadata": {},
   "outputs": [
    {
     "name": "stdout",
     "output_type": "stream",
     "text": [
      "[[ 1. -1. -1. -1. -1. -1. -1. -1.]\n",
      " [ 0.  1. -1. -1. -1. -1. -1. -1.]\n",
      " [ 0.  0.  1. -1. -1. -1. -1. -1.]\n",
      " [ 0.  0.  0.  1. -1. -1. -1. -1.]\n",
      " [ 0.  0.  0.  0.  1. -1. -1. -1.]\n",
      " [ 0.  0.  0.  0.  0.  1. -1. -1.]\n",
      " [ 0.  0.  0.  0.  0.  0.  1. -1.]\n",
      " [ 0.  0.  0.  0.  0.  0.  0.  1.]]\n",
      "1.0\n",
      "1024.0 1024\n",
      "\n",
      "[[0.1 0.  0.  0.  0.  0.  0.  0. ]\n",
      " [0.  0.1 0.  0.  0.  0.  0.  0. ]\n",
      " [0.  0.  0.1 0.  0.  0.  0.  0. ]\n",
      " [0.  0.  0.  0.1 0.  0.  0.  0. ]\n",
      " [0.  0.  0.  0.  0.1 0.  0.  0. ]\n",
      " [0.  0.  0.  0.  0.  0.1 0.  0. ]\n",
      " [0.  0.  0.  0.  0.  0.  0.1 0. ]\n",
      " [0.  0.  0.  0.  0.  0.  0.  0.1]]\n",
      "1.0000000000000018e-08 1.0000000000000005e-08\n",
      "1.0 1.0 1.0\n"
     ]
    }
   ],
   "source": [
    "import numpy as np\n",
    "from numpy import linalg as la\n",
    "import matplotlib.pyplot as plt\n",
    "\n",
    "def condit(M,i):\n",
    "    return la.norm(M,i)*la.norm(la.inv(M),i)\n",
    "\n",
    "n=8\n",
    "A = np.transpose(-np.tri(n, n, -1)+np.eye(n))\n",
    "print(A)\n",
    "print(la.det(A))\n",
    "print(la.norm(A,1)*la.norm(la.inv(A),1),n*2**(n-1))\n",
    "print()\n",
    "D = 1E-1*np.eye(n)\n",
    "print(D)\n",
    "print(la.det(D), np.prod(np.diag(1E-1*np.eye(n))))\n",
    "print(condit(D,1),condit(D,2),condit(D,np.inf))"
   ]
  },
  {
   "cell_type": "markdown",
   "id": "8ab4e710",
   "metadata": {
    "slideshow": {
     "slide_type": "slide"
    }
   },
   "source": [
    "## Conditionnement d'un problème aux valeurs propres\n",
    "\n",
    "**Exemple 3.5**. $$\\begin{pmatrix}\n",
    "    0 &   &   &   & \\varepsilon \\\\\n",
    "    1 & 0 &   &   & \\\\\n",
    "    & 1 & 0 &   & \\\\\n",
    "    &   & \\ddots & \\ddots & \\\\\n",
    "    &   &   & 1 &  0\n",
    "    \\end{pmatrix}$$ Si $\\varepsilon=0$ toutes les valeurs propres sont\n",
    "nulles, si $\\varepsilon=10^{-n}$ toutes les valeurs propres valent\n",
    "$10^{-1}$, soit un conditionnement de $10^{n-1}$. De plus si $10^{-n}$\n",
    "est hors précision machine (disons $n\\simeq 40$), alors il sera arrondi\n",
    "à $0$ ce qui signifie que les valeurs propres seront fausses de\n",
    "$10^{-1}$ (erreur absolue).\n",
    "\n",
    "Soit ${\\mathbf{A}}$ une matrice diagonalisable,\n",
    "${\\mathbf{P}}$ une matrice telle que\n",
    "$${\\mathbf{P}}^{-1}{\\mathbf{A}}{\\mathbf{P}}={\\operatorname{diag}}{\\lambda_i}={\\mathbf{D}}$$\n",
    "et une norme matricielle telle que\n",
    "$$\\|{{\\mathbf{\\operatorname{diag}}}}(d_i)\\|=\\max_i|d_i|$$\n",
    "pour toute matrice diagonale (propriété vérifiée par les normes $1$, $2$\n",
    "et $\\infty$)."
   ]
  },
  {
   "cell_type": "markdown",
   "id": "0e8ecae1",
   "metadata": {
    "slideshow": {
     "slide_type": "subslide"
    }
   },
   "source": [
    "**Proposition 3.6**. *Alors pour toute matrice\n",
    "${\\mathbf{\\delta A}}$, $$\\begin{aligned}\n",
    "    \\operatorname{sp}({\\mathbf{A}}+{\\mathbf{\\delta A}})&\\subset \\bigcup_{i=1}^n D_i\\\\\n",
    "    \\text{avec } D_i &= \\{z\\in{\\mathbb{C}};\\ |z-\\lambda_i|\\leqslant {\\kappa(\\mathbf{P})}\\|{\\mathbf{\\delta A}}\\|\\}\n",
    "    \\end{aligned}$$*\n",
    "\n",
    "\n",
    "*Proof.* Soit $\\lambda$ une valeur propre de\n",
    "$({\\mathbf{A}}+{\\mathbf{\\delta A}})$ avec\n",
    "$\\lambda\\neq\\lambda_i$ quel que soit $i$ (la valeur propre a donc été\n",
    "perturbée par ${\\mathbf{\\delta A}}$). On a donc\n",
    "$({\\mathbf{D}}-\\lambda {\\mathbf{I}})$ inversible\n",
    "et\n",
    "$${\\mathbf{P}}^{-1}({\\mathbf{A}}+{\\mathbf{\\delta A}}-\\lambda{\\mathbf{I}}){\\mathbf{P}} ={\\mathbf{D}}-\\lambda{\\mathbf{I}}+{\\mathbf{P}}^{-1}{\\mathbf{\\delta A}}{\\mathbf{P}}\n",
    "    =({\\mathbf{D}}-\\lambda{\\mathbf{I}})({\\mathbf{I}}+({\\mathbf{D}}-\\lambda{\\mathbf{I}})^{-1}{\\mathbf{P}}^{-1}{\\mathbf{\\delta A}}{\\mathbf{P}})$$\n",
    "La matrice\n",
    "${\\mathbf{I}}+({\\mathbf{D}}-\\lambda{\\mathbf{I}})^{-1}{\\mathbf{P}}^{-1}{\\mathbf{\\delta A}}{\\mathbf{P}}$\n",
    "n'est pas inversible (puisque\n",
    "$({\\mathbf{A}}+{\\mathbf{\\delta A}}-\\lambda{\\mathbf{I}})$\n",
    "ne l'est pas) et donc\n",
    "$$1\\leqslant\\|({\\mathbf{D}}-\\lambda{\\mathbf{I}})^{-1}{\\mathbf{P}}^{-1}{\\mathbf{\\delta A}}{\\mathbf{P}}\\|\\leqslant\\|({\\mathbf{D}}-\\lambda{\\mathbf{I}})^{-1}\\|\\|{\\mathbf{P}}^{-1}\\|\\|{\\mathbf{\\delta A}}\\|\\|{\\mathbf{P}}\\|$$\n",
    "or d'après l'hypothèse sur la norme\n",
    "matricielle$\\|({\\mathbf{D}}-\\lambda{\\mathbf{I}})^{-1}\\|=\\frac{1}{\\min|\\lambda_i-\\lambda|}$\n",
    "donc il existe au moins un $i$ tel que\n",
    "$$|\\lambda_i-\\lambda|\\leqslant \\|{\\mathbf{P}}^{-1}\\|\\|{\\mathbf{\\delta A}}\\|\\|{\\mathbf{P}}\\|={\\kappa(\\mathbf{P})}\\|{\\mathbf{\\delta A}}\\|$$ ◻\n",
    "\n",
    "Donc le conditionnement d'un problème aux valeurs propres est la valeur\n",
    "$\\inf\\{{\\kappa(\\mathbf{P})};\\ {\\mathbf{P}}^{-1}{\\mathbf{A}}{\\mathbf{P}}={{\\mathbf{\\operatorname{diag}}}}(\\lambda_i)\\}$.\n",
    "En conséquence une matrice normale (et en particulier hermitienne) est\n",
    "parfaitement conditionnée (en norme 2) pour un problème aux valeurs\n",
    "propres puisqu'elle se diagonalise dans un changement de base unitaire."
   ]
  },
  {
   "cell_type": "markdown",
   "id": "28fcaef5",
   "metadata": {
    "slideshow": {
     "slide_type": "subslide"
    }
   },
   "source": [
    "**Proposition 3.7**. *Si ${\\mathbf{A}}$ et\n",
    "${\\mathbf{B}}={\\mathbf{A}}+{\\mathbf{\\delta A}}$\n",
    "sont deux matrices hermitiennes, de valeurs propres (ordonnées)\n",
    "respectives $(\\alpha)_i$ et $(\\beta)_i$\n",
    "$$|\\alpha_k-\\beta_k|\\leqslant\\|{\\mathbf{\\delta A}}\\|_2$$ Ce\n",
    "résultat est plus fort que le précédent qui dirait simplement que pour\n",
    "tout $k$ il existe $i$ tel que\n",
    "$|\\alpha_k-\\beta_i|\\leqslant\\|{\\mathbf{\\delta A}}\\|_2$.*\n",
    "\n",
    "\n",
    "*Proof.* On utilise le quotient de Rayleigh, $E_k$ est l'espace propre\n",
    "engendré par les $k$ premiers vecteurs propres et $\\mathcal{E}_k$\n",
    "l'ensemble des sous-espaces de dimension $k$, on a $$\\begin{aligned}\n",
    "    \\beta_k = \\min_{\\mathbb{V}\\in\\mathcal{E}_{k-1}}\\max_{{\\mathbf{v}}\\perp \\mathbb{V}}  R_{{\\mathbf{B}}}({\\mathbf{v}}) &\\leqslant \n",
    "    \\max_{{\\mathbf{v}}\\perp \\mathbb{E}_{k-1}} R_{{\\mathbf{B}}}({\\mathbf{v}})= \\max_{{\\mathbf{v}}\\perp \\mathbb{E}_{k-1}} (R_{{\\mathbf{A}}}({\\mathbf{v}})+R_{{\\mathbf{\\delta A}}}({\\mathbf{v}}))\\\\\n",
    "    &\\leqslant \\max_{{\\mathbf{v}}\\perp \\mathbb{E}_{k-1}} R_{{\\mathbf{A}}}({\\mathbf{v}})+  \\max_{{\\mathbf{v}}\\perp \\mathbb{E}_{k-1}} R_{{\\mathbf{\\delta A}}}({\\mathbf{v}})= \\alpha_k +\\max_{{\\mathbf{v}}\\perp \\mathbb{E}_{k-1}} R_{{\\mathbf{\\delta A}}} ({\\mathbf{v}})\\\\&\\leqslant \\alpha_k +\\max_{{\\mathbf{v}}\\in \\mathbb{E}} R_{{\\mathbf{\\delta A}}}({\\mathbf{v}})\\leqslant \\alpha_k +\\|{\\mathbf{\\delta A}}\\|_2\n",
    "    \\end{aligned}$$ On peut faire le même calcul en échangeant $\\beta_k$\n",
    "et $\\alpha_k$ (en utilisant $-{\\mathbf{\\delta A}}$), ce qui\n",
    "permet de conclure. ◻\n",
    "\n",
    "Appliquer cette proposition au cas de l'exemple 3.1 "
   ]
  },
  {
   "cell_type": "code",
   "execution_count": 45,
   "id": "ca34faa8",
   "metadata": {
    "slideshow": {
     "slide_type": "subslide"
    }
   },
   "outputs": [
    {
     "name": "stdout",
     "output_type": "stream",
     "text": [
      "Différences des valeurs propres\n",
      "[0.00994389 0.062886   0.07535469 0.05818459]\n",
      "Norme 2\n",
      "0.2308270538811954\n"
     ]
    }
   ],
   "source": [
    "import numpy as np\n",
    "from numpy import linalg as la\n",
    "\n",
    "A = np.matrix([\n",
    "     [10., 7., 8., 7.],\n",
    "     [7., 5., 6., 5.],\n",
    "     [8., 6., 10., 9.],\n",
    "     [7., 5., 9., 10.]])\n",
    "\n",
    "DeltaA = np.matrix([[0., 0., 0.1, 0.2],\n",
    "     [0.08, 0.04, 0., 0.],\n",
    "     [0., -0.02, -0.11, 0.],\n",
    "     [-0.01, -0.01, 0., -0.02]])\n",
    "\n",
    "vpa = np.sort(la.eigvals(A))\n",
    "vpb = np.sort(la.eigvals(A+DeltaA))\n",
    "\n",
    "print('Différences des valeurs propres')\n",
    "print(np.abs(vpa-vpb))\n",
    "print('Norme 2')\n",
    "print(la.norm(DeltaA,2))\n"
   ]
  }
 ],
 "metadata": {
  "celltoolbar": "Diaporama",
  "kernelspec": {
   "display_name": "Python 3 (ipykernel)",
   "language": "python",
   "name": "python3"
  },
  "language_info": {
   "codemirror_mode": {
    "name": "ipython",
    "version": 3
   },
   "file_extension": ".py",
   "mimetype": "text/x-python",
   "name": "python",
   "nbconvert_exporter": "python",
   "pygments_lexer": "ipython3",
   "version": "3.9.13"
  }
 },
 "nbformat": 4,
 "nbformat_minor": 5
}
