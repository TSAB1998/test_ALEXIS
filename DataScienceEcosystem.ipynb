{
 "cells": [
  {
   "cell_type": "markdown",
   "id": "3711d24d",
   "metadata": {},
   "source": [
    "# Data Science Tools and Ecosystem"
   ]
  },
  {
   "cell_type": "markdown",
   "id": "bea673e8",
   "metadata": {},
   "source": [
    "## Introdution: \n",
    "In this Notebook, we will summarize all the tools and ecosystem wich are used for Data science. "
   ]
  },
  {
   "cell_type": "markdown",
   "id": "5b1c3ede",
   "metadata": {},
   "source": [
    "## Objectives : \n",
    "The gaol of this labs is to create a notebook and doing some manipulation inside. This manipulations are doing by Markdown of code. Another objective is to add the created notebook on github. do do that, we will doint the following tasks : \n",
    "- List of the Data Science Language\n",
    "- List of the popular Data science Libraries\n",
    "- Simple arithetical operation"
   ]
  },
  {
   "cell_type": "markdown",
   "id": "29a5343b",
   "metadata": {},
   "source": [
    "## Data science Languages : \n",
    "in this section, we list some of common data science Languages Used: \n",
    "- Pyton\n",
    "- R\n",
    "- JAVA\n",
    "- EXCEL\n",
    "- JAVA PLUS"
   ]
  },
  {
   "cell_type": "markdown",
   "id": "571c035d",
   "metadata": {},
   "source": [
    "## Data science Libraries : \n",
    "in this section, we list some of common data science Libraries Used:\n",
    "- Matplotlib\n",
    "- Plotly\n",
    "- Pandas\n",
    "- Seaborn\n",
    "- Scikit Learn\n",
    "- Numpy\n",
    "- Keras"
   ]
  },
  {
   "cell_type": "markdown",
   "id": "2f4801b5",
   "metadata": {},
   "source": [
    "| Data Science Tools |\n",
    "| :---------------:|\n",
    "| Jupyter Notebooks |\n",
    "| Pytorch  |\n",
    "|MLFlow  |"
   ]
  },
  {
   "cell_type": "markdown",
   "id": "87d4f55a",
   "metadata": {},
   "source": [
    "### Below are a few examples of evaluating arithmetic expressions in Python"
   ]
  },
  {
   "cell_type": "code",
   "execution_count": 3,
   "id": "fb900e1d",
   "metadata": {},
   "outputs": [
    {
     "data": {
      "text/plain": [
       "17"
      ]
     },
     "execution_count": 3,
     "metadata": {},
     "output_type": "execute_result"
    }
   ],
   "source": [
    "# This is a simple arithmétique expression to multiply then and add integers\n",
    "(4 * 3) + 5"
   ]
  },
  {
   "cell_type": "code",
   "execution_count": 5,
   "id": "c966e20b",
   "metadata": {},
   "outputs": [
    {
     "data": {
      "text/plain": [
       "3.3333333333333335"
      ]
     },
     "execution_count": 5,
     "metadata": {},
     "output_type": "execute_result"
    }
   ],
   "source": [
    "# This code will convert 200 minutes to hours by divising by 60\n",
    "200/60"
   ]
  },
  {
   "cell_type": "markdown",
   "id": "ab3a17d0",
   "metadata": {},
   "source": [
    "## Authors\n",
    "Alexis Blaise TALLA SIMO"
   ]
  },
  {
   "cell_type": "code",
   "execution_count": null,
   "id": "dbbc105d",
   "metadata": {},
   "outputs": [],
   "source": []
  }
 ],
 "metadata": {
  "kernelspec": {
   "display_name": "Python 3 (ipykernel)",
   "language": "python",
   "name": "python3"
  },
  "language_info": {
   "codemirror_mode": {
    "name": "ipython",
    "version": 3
   },
   "file_extension": ".py",
   "mimetype": "text/x-python",
   "name": "python",
   "nbconvert_exporter": "python",
   "pygments_lexer": "ipython3",
   "version": "3.9.13"
  }
 },
 "nbformat": 4,
 "nbformat_minor": 5
}
